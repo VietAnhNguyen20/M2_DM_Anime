{
 "cells": [
  {
   "cell_type": "code",
   "execution_count": 1,
   "metadata": {},
   "outputs": [],
   "source": [
    "# username,anime_id,my_watched_episodes,my_score,my_status,my_rewatching,my_rewatching_ep,my_tags"
   ]
  },
  {
   "cell_type": "code",
   "execution_count": 46,
   "metadata": {},
   "outputs": [],
   "source": [
    "import pandas as pd\n",
    "\n",
    "anime_selected = pd.read_csv(\"./Data/animeList_selected.csv\", index_col=0)\n",
    "anime_selected = anime_selected.reset_index(drop=True)\n"
   ]
  },
  {
   "cell_type": "code",
   "execution_count": 47,
   "metadata": {},
   "outputs": [
    {
     "name": "stdout",
     "output_type": "stream",
     "text": [
      "200\n",
      "[21, 59, 120, 249, 269, 853, 857, 1735, 2104, 2787, 4224, 6045, 7054, 7674, 9513, 11759, 14227, 1, 19, 20, 24, 30, 32, 45, 121, 150, 164, 199, 205, 226, 227, 228, 237, 245, 270, 339, 355, 356, 431, 457, 578, 918, 934, 1482, 1535, 1575, 1604, 1689, 1818, 2001, 2025, 2034, 2167, 2236, 2251, 2593, 2904, 3588, 4081, 4654, 4975, 5081, 5114, 5630, 5681, 6573, 6594, 6702, 6746, 9253, 9919, 9989, 10162, 11061, 11111, 11597, 11757, 12189, 12355, 13601, 14075, 14513, 14813, 16498, 18153, 18679, 20507, 20583, 22319, 22535, 23273, 23283, 23755, 26243, 28223, 30276, 31043, 31240, 31964, 32281, 6, 66, 71, 225, 813, 2966, 3455, 13125, 20787, 27899, 30503, 430, 849, 877, 1887, 2476, 5530, 5958, 6347, 6956, 8769, 8841, 18897, 101, 223, 527, 1195, 1530, 1691, 1840, 2924, 2993, 3712, 4181, 4214, 4382, 5680, 6213, 7311, 7593, 7791, 47, 777, 889, 3457, 4752, 4898, 6880, 7724, 8074, 8525, 8675, 10087, 10620, 10719, 10793, 11617, 11633, 11741, 14345, 14467, 15583, 15809, 19815, 22199, 25777, 28121, 28999, 9041, 17265, 6547, 21881, 1519, 11499, 43, 523, 790, 1210, 1889, 2605, 8425, 9756, 10408, 11771, 11843, 13759, 14289, 14741, 16592, 17895, 23289, 24833, 29803, 30831, 11887, 20785, 28171, 28851, 10165, 16742]\n"
     ]
    }
   ],
   "source": [
    "list_anime_id = anime_selected['anime_id'].unique().tolist()\n",
    "print(len(list_anime_id))\n",
    "print(list_anime_id)"
   ]
  },
  {
   "cell_type": "code",
   "execution_count": 49,
   "metadata": {},
   "outputs": [
    {
     "name": "stdout",
     "output_type": "stream",
     "text": [
      "7433046 / 7433047 743304774330477433047 7433047 / 7433047/ 74330477433047/ 7433047 7433047/ 7433047 / 7433047 / 743304774330477433047 / 7433047 / 7433047 / 7433047/ 7433047/ 743304774330477433047 7433047 7433047 7433047 7433047/ 74330477433047 7433047 / 7433047/ 74330477433047 / 7433047/ 7433047 7433047 7433047743304774330477433047 74330477433047/ 7433047 / 74330477433047 74330477433047 / 74330477433047 / 7433047/ 7433047 / 7433047 / 743304774330477433047/ 74330477433047 / 74330477433047 / 7433047 / 743304774330477433047/ 7433047/ 7433047 74330477433047/ 743304774330477433047/ 7433047/ 7433047 7433047 / 7433047/ 7433047 / 7433047/ 7433047/ 74330477433047 74330477433047/ 7433047 74330477433047 7433047/ 7433047 / 74330477433047 / 7433047 / 7433047 / 7433047/ 74330477433047 / 74330477433047 / 74330477433047 7433047 7433047/ 7433047/ 7433047 / 7433047743304774330477433047/ 7433047 7433047/ 7433047/ 7433047 743304774330477433047 7433047 / 74330477433047 / 74330477433047 7433047 / 7433047 / 7433047743304774330477433047 7433047 7433047/ 7433047 / 7433047/ 74330477433047 / 7433047 74330477433047 / 7433047/ 7433047 / 74330477433047 / 7433047 7433047 / 7433047 7433047/ 743304774330477433047/ 7433047 7433047/ 7433047 7433047 / 7433047 7433047 / 7433047 7433047 74330477433047/ 7433047 / 7433047 7433047 / 7433047 7433047/ 7433047 / 7433047/ 7433047 7433047 74330477433047 7433047/ 7433047 7433047/ 7433047 7433047 / 7433047 / 7433047/ 7433047 7433047/ 7433047/ 74330477433047 74330477433047 / 7433047 7433047 7433047 74330477433047 / 74330477433047 / 7433047743304774330477433047 7433047 / 7433047/ 74330477433047 / 7433047 7433047 7433047 / 7433047/ 7433047 / 7433047 / 7433047 / 74330477433047 / 74330477433047 7433047 7433047 / 7433047/ 7433047/ 7433047 / 7433047/ 7433047 7433047/ 7433047 / 7433047 / 7433047 / 7433047 / 7433047 / 7433047/ 7433047/ 7433047 / 7433047 7433047 / 7433047 / 7433047 7433047/ 7433047 / 7433047 / 7433047 / 74330477433047/ 7433047/ 7433047 / 7433047 7433047/ 7433047 7433047/ 7433047/ 7433047/ 7433047 7433047/ 7433047/ 7433047 7433047/ 7433047/ 7433047 / 7433047 / 7433047/ 7433047/ 7433047 / 7433047 / 7433047 / 7433047 / 74330477433047/ 7433047 7433047 / 74330477433047 / 7433047 743304774330477433047/ 7433047 7433047 7433047 / 7433047/ 74330477433047 7433047 / 74330477433047/ 7433047 / 7433047/ 7433047/ 7433047/ 7433047 / 7433047743304774330477433047 / 7433047/ 7433047/ 74330477433047/ 7433047 7433047\r"
     ]
    }
   ],
   "source": [
    "userToAnimeList = {}\n",
    "\n",
    "for i in range(len(anime_selected)):\n",
    "\n",
    "  print(i,\"/\",len(anime_selected),end=\"\\r\")\n",
    "\n",
    "  if(anime_selected[\"username\"][i] not in userToAnimeList):\n",
    "    userToAnimeList[anime_selected[\"username\"][i]] = []\n",
    "  \n",
    "  userToAnimeList[anime_selected[\"username\"][i]].append(anime_selected[\"anime_id\"][i])\n",
    "\n"
   ]
  },
  {
   "cell_type": "code",
   "execution_count": 51,
   "metadata": {},
   "outputs": [
    {
     "name": "stdout",
     "output_type": "stream",
     "text": [
      "361 / 108296\r"
     ]
    }
   ],
   "source": [
    "import numpy as np\n",
    "adj = np.zeros((len(list_anime_id),len(list_anime_id)))\n",
    "count = 0\n",
    "for user in userToAnimeList:\n",
    "  print(count,\"/\",len(userToAnimeList),end=\"\\r\")\n",
    "  count+=1\n",
    "\n",
    "  animelist = userToAnimeList[user]\n",
    "\n",
    "  for i in range(len(animelist)):\n",
    "    for j in range(i, len(animelist)):\n",
    "\n",
    "      adj[list_anime_id.index(animelist[i]), list_anime_id.index(animelist[j])] += 1\n"
   ]
  },
  {
   "cell_type": "code",
   "execution_count": null,
   "metadata": {},
   "outputs": [],
   "source": [
    "\"\"\"\n",
    "import numpy as np\n",
    "adj = np.zeros((len(list_anime_id),len(list_anime_id)))\n",
    "count = 0\n",
    "for user in anime_selected[\"username\"]:\n",
    "  print(count,\"/\",len(anime_selected[\"username\"].unique()),end=\"\\r\")\n",
    "  count+=1\n",
    "  \n",
    "  dataset_filtrated_by_user = anime_selected[anime_selected[\"username\"] == user]\n",
    "  dataset_filtrated_by_user = dataset_filtrated_by_user.reset_index(drop=True)\n",
    "  #print(dataset_filtrated_by_user[\"anime_id\"])\n",
    "  \n",
    "  for i in range(len(dataset_filtrated_by_user)):\n",
    "    for j in range(i, len(dataset_filtrated_by_user)):\n",
    "      #print(i,j)\n",
    "      #print(dataset_filtrated_by_user[\"anime_id\"][i],dataset_filtrated_by_user[\"anime_id\"][j])\n",
    "\n",
    "      adj[list_anime_id.index(dataset_filtrated_by_user[\"anime_id\"][i]), list_anime_id.index(dataset_filtrated_by_user[\"anime_id\"][j])] += 1\n",
    "\"\"\""
   ]
  }
 ],
 "metadata": {
  "kernelspec": {
   "display_name": "Python 3.11.5 ('tpdeeprl2023')",
   "language": "python",
   "name": "python3"
  },
  "language_info": {
   "codemirror_mode": {
    "name": "ipython",
    "version": 3
   },
   "file_extension": ".py",
   "mimetype": "text/x-python",
   "name": "python",
   "nbconvert_exporter": "python",
   "pygments_lexer": "ipython3",
   "version": "3.11.5"
  },
  "orig_nbformat": 4,
  "vscode": {
   "interpreter": {
    "hash": "0079be91c424955342ebea54dd801d2c2f8b0ea3b739a7aff160ca3f947dc9e6"
   }
  }
 },
 "nbformat": 4,
 "nbformat_minor": 2
}
