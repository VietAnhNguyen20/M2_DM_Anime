{
 "cells": [
  {
   "cell_type": "code",
   "execution_count": null,
   "metadata": {},
   "outputs": [],
   "source": [
    "import pandas as pd\n",
    "import matplotlib.pyplot as plt\n",
    "import plotly.express as px"
   ]
  },
  {
   "cell_type": "code",
   "execution_count": null,
   "metadata": {},
   "outputs": [],
   "source": [
    "location_countries = pd.read_csv(\"Data/countries.csv\")\n",
    "location_countries = location_countries.rename(columns = {\"country\": \"country_code\"})\n",
    "location_countries.head(5)"
   ]
  },
  {
   "cell_type": "code",
   "execution_count": null,
   "metadata": {},
   "outputs": [],
   "source": [
    "user_location_df = pd.read_csv(\"Data/clean-locations.csv\")\n",
    "user_location_df = user_location_df.drop_duplicates(subset=['user_id'], keep='first')\n",
    "user_location_df = user_location_df[[\"user_id\", \"country_code\"]]\n",
    "user_location_df[\"country_code\"] = user_location_df[\"country_code\"].str.upper()\n",
    "user_location_df = user_location_df.sort_values(by = [\"user_id\"])\n",
    "user_location_df"
   ]
  },
  {
   "cell_type": "code",
   "execution_count": null,
   "metadata": {},
   "outputs": [],
   "source": [
    "#Calculate the number of user watching anime for each country\n",
    "num_users_per_country = user_location_df.groupby(['country_code']).agg({\n",
    "    'user_id': 'count'  # Count of anime_id\n",
    "})\n",
    "\n",
    "# Rename columns as per the SQL query\n",
    "num_users_per_country.columns = ['num_users']\n",
    "\n",
    "# Reset index to make anime_id a column again\n",
    "num_users_per_country.reset_index(inplace=True)\n",
    "num_users_per_country = num_users_per_country.sort_values(by= [\"num_users\"], ascending=False)"
   ]
  },
  {
   "cell_type": "code",
   "execution_count": null,
   "metadata": {},
   "outputs": [],
   "source": [
    "num_users_per_country = pd.merge(num_users_per_country, location_countries, on='country_code', how='inner')\n",
    "num_users_per_country"
   ]
  },
  {
   "cell_type": "code",
   "execution_count": null,
   "metadata": {},
   "outputs": [],
   "source": [
    "#Only plot top 30 countries\n",
    "num_users_per_country_shortened = num_users_per_country[:50]\n",
    "\n",
    "\n",
    "keys = list(num_users_per_country_shortened[\"name\"])\n",
    "values = list(num_users_per_country_shortened[\"num_users\"])\n",
    "print(len(values))\n",
    "\n",
    "\n",
    "plt.figure(figsize=(12, 10))\n",
    "plt.bar(keys, values, color='skyblue')\n",
    "plt.xlabel('Countries_code')\n",
    "plt.ylabel('Number of users watching anime')\n",
    "plt.title('Distribution Plot')\n",
    "plt.xticks(rotation='vertical')  \n",
    "plt.tight_layout()\n",
    "plt.show()"
   ]
  },
  {
   "cell_type": "code",
   "execution_count": null,
   "metadata": {},
   "outputs": [],
   "source": [
    "num_users_per_country"
   ]
  },
  {
   "cell_type": "code",
   "execution_count": null,
   "metadata": {},
   "outputs": [],
   "source": [
    "# Geo spatial layout\n",
    "\n",
    "fig = px.choropleth(num_users_per_country, \n",
    "                    locations = 'name',\n",
    "                    locationmode = 'country names',\n",
    "                    color=\"num_users\",\n",
    "                    hover_name=\"name\",\n",
    "                    projection=\"natural earth\",\n",
    "                    color_continuous_scale=\"Viridis\")\n",
    "\n",
    "fig.update_geos(showcoastlines=False, coastlinecolor=\"Black\", showland=True, landcolor=\"white\",\n",
    "                showocean=True, oceancolor=\"#add8e6\", showlakes=False)\n",
    "\n",
    "fig.update_layout(title_text='Number of Users by Country')\n",
    "fig.show()"
   ]
  }
 ],
 "metadata": {
  "kernelspec": {
   "display_name": "M2_DM",
   "language": "python",
   "name": "python3"
  },
  "language_info": {
   "codemirror_mode": {
    "name": "ipython",
    "version": 3
   },
   "file_extension": ".py",
   "mimetype": "text/x-python",
   "name": "python",
   "nbconvert_exporter": "python",
   "pygments_lexer": "ipython3",
   "version": "3.8.18"
  }
 },
 "nbformat": 4,
 "nbformat_minor": 2
}
